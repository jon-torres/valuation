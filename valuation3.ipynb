{
 "cells": [
  {
   "cell_type": "code",
   "execution_count": 2,
   "metadata": {},
   "outputs": [],
   "source": [
    "import numpy as np\n",
    "import os\n",
    "import pandas as pd\n",
    "import matplotlib.pyplot as plt\n",
    "import seaborn as sns\n",
    "import warnings\n",
    "import statsmodels.api as sm\n",
    "import yfinance as yf\n",
    "import requests\n",
    "from dotenv import load_dotenv"
   ]
  },
  {
   "cell_type": "code",
   "execution_count": 30,
   "metadata": {},
   "outputs": [],
   "source": [
    "load_dotenv()\n",
    "api_key = os.getenv(\"API_KEY\")\n",
    "warnings.filterwarnings('ignore', category=FutureWarning)"
   ]
  },
  {
   "cell_type": "markdown",
   "metadata": {},
   "source": [
    "# Beta"
   ]
  },
  {
   "cell_type": "code",
   "execution_count": 31,
   "metadata": {},
   "outputs": [
    {
     "name": "stdout",
     "output_type": "stream",
     "text": [
      "[*********************100%***********************]  1 of 1 completed\n",
      "[*********************100%***********************]  1 of 1 completed\n",
      "Beta: 0.74\n"
     ]
    }
   ],
   "source": [
    "# Vibra Energia\n",
    "stock_ticker = \"VBBR3.SA\"\n",
    "# S&P 500\n",
    "market_index_ticker = \"^GSPC\"\n",
    "# inicio e fim do período de análise\n",
    "start_date = \"2018-01-01\"\n",
    "end_date = \"2022-12-31\"\n",
    "\n",
    "# Download dos dados\n",
    "stock_data = yf.download(stock_ticker, start=start_date, end=end_date)\n",
    "market_data = yf.download(market_index_ticker, start=start_date, end=end_date)\n",
    "\n",
    "# Cálculo de daily returns\n",
    "stock_returns = stock_data[\"Adj Close\"].pct_change().dropna()\n",
    "market_returns = market_data[\"Adj Close\"].pct_change().dropna()\n",
    "\n",
    "# Ajuste dos retornos para o mesmo período\n",
    "aligned_returns = pd.concat([stock_returns, market_returns], axis=1).dropna()\n",
    "aligned_returns.columns = [\"Stock Returns\", \"Market Returns\"]\n",
    "\n",
    "# Regressão para o cálculo do Beta\n",
    "X = sm.add_constant(aligned_returns[\"Market Returns\"])\n",
    "# Ordinary Least Squares regression (OLS)\n",
    "model = sm.OLS(aligned_returns[\"Stock Returns\"], X).fit()\n",
    "beta = model.params[\"Market Returns\"]\n",
    "\n",
    "# Display the beta\n",
    "print(f\"Beta: {round(beta, 2)}\")"
   ]
  },
  {
   "cell_type": "markdown",
   "metadata": {},
   "source": [
    "# Risk free rate"
   ]
  },
  {
   "cell_type": "code",
   "execution_count": 32,
   "metadata": {},
   "outputs": [],
   "source": [
    "def fetch_treasury_yield(api_key, start_year, end_year):\n",
    "    \"\"\"\n",
    "    Fetches the monthly 10-year treasury yield data from Alpha Vantage API for the specified range of years.\n",
    "\n",
    "    Parameters:\n",
    "    - api_key (str): The API key for accessing the Alpha Vantage API.\n",
    "    - start_year (int): The starting year for fetching the treasury yield data.\n",
    "    - end_year (int): The ending year for fetching the treasury yield data.\n",
    "\n",
    "    Returns:\n",
    "    - treasury_yields (dict): A dictionary containing the treasury yield data for each year in the specified range.\n",
    "                    The keys are the years and the values are the corresponding treasury yields.\n",
    "                    If the data for a particular year is not available, the value will be set to None.\n",
    "    \"\"\"\n",
    "    url = \"https://www.alphavantage.co/query\"\n",
    "    treasury_yields = {}\n",
    "\n",
    "    for year in range(start_year, end_year + 1):\n",
    "        params = {\n",
    "            \"function\": \"TREASURY_YIELD\",\n",
    "            \"interval\": \"monthly\",\n",
    "            \"maturity\": \"10year\",\n",
    "            \"apikey\": api_key,\n",
    "        }\n",
    "\n",
    "        response = requests.get(url, params=params)\n",
    "        if response.status_code == 200:\n",
    "            data = response.json()\n",
    "            year_data = [\n",
    "                item for item in data[\"data\"] if item[\"date\"].startswith(str(year))\n",
    "            ]\n",
    "            if year_data:\n",
    "                latest_yield = max(year_data, key=lambda x: x[\"date\"])[\"value\"]\n",
    "                treasury_yields[year] = float(latest_yield)\n",
    "            else:\n",
    "                treasury_yields[year] = None\n",
    "        else:\n",
    "            print(f\"Could not fetch data for {year}: {response.status_code}\")\n",
    "            treasury_yields[year] = None\n",
    "\n",
    "    return treasury_yields"
   ]
  },
  {
   "cell_type": "code",
   "execution_count": 33,
   "metadata": {},
   "outputs": [
    {
     "data": {
      "text/html": [
       "<div>\n",
       "<style scoped>\n",
       "    .dataframe tbody tr th:only-of-type {\n",
       "        vertical-align: middle;\n",
       "    }\n",
       "\n",
       "    .dataframe tbody tr th {\n",
       "        vertical-align: top;\n",
       "    }\n",
       "\n",
       "    .dataframe thead th {\n",
       "        text-align: right;\n",
       "    }\n",
       "</style>\n",
       "<table border=\"1\" class=\"dataframe\">\n",
       "  <thead>\n",
       "    <tr style=\"text-align: right;\">\n",
       "      <th></th>\n",
       "      <th>Year</th>\n",
       "      <th>Risk Free Rate</th>\n",
       "    </tr>\n",
       "  </thead>\n",
       "  <tbody>\n",
       "    <tr>\n",
       "      <th>0</th>\n",
       "      <td>2017</td>\n",
       "      <td>2.40</td>\n",
       "    </tr>\n",
       "    <tr>\n",
       "      <th>1</th>\n",
       "      <td>2018</td>\n",
       "      <td>2.83</td>\n",
       "    </tr>\n",
       "    <tr>\n",
       "      <th>2</th>\n",
       "      <td>2019</td>\n",
       "      <td>1.86</td>\n",
       "    </tr>\n",
       "    <tr>\n",
       "      <th>3</th>\n",
       "      <td>2020</td>\n",
       "      <td>0.93</td>\n",
       "    </tr>\n",
       "    <tr>\n",
       "      <th>4</th>\n",
       "      <td>2021</td>\n",
       "      <td>1.47</td>\n",
       "    </tr>\n",
       "    <tr>\n",
       "      <th>5</th>\n",
       "      <td>2022</td>\n",
       "      <td>3.62</td>\n",
       "    </tr>\n",
       "  </tbody>\n",
       "</table>\n",
       "</div>"
      ],
      "text/plain": [
       "   Year  Risk Free Rate\n",
       "0  2017            2.40\n",
       "1  2018            2.83\n",
       "2  2019            1.86\n",
       "3  2020            0.93\n",
       "4  2021            1.47\n",
       "5  2022            3.62"
      ]
     },
     "metadata": {},
     "output_type": "display_data"
    }
   ],
   "source": [
    "# api_key = \"demo\" <- nunca faça isso\n",
    "risk_free_rates = fetch_treasury_yield(api_key, 2017, 2022)\n",
    "risk_free_rates_df = pd.DataFrame(list(risk_free_rates.items()), \n",
    "                                  columns=['Year', 'Risk Free Rate'])\n",
    "display(risk_free_rates_df)"
   ]
  },
  {
   "cell_type": "markdown",
   "metadata": {},
   "source": [
    "# Country Risk Premium (CRP)"
   ]
  },
  {
   "cell_type": "code",
   "execution_count": 34,
   "metadata": {},
   "outputs": [],
   "source": [
    "# Fonte: https://data.worldbank.org/indicator/FR.INR.RISK?locations=BR\n",
    "crp_data_from_world_bank = \"data/API_FR.INR.RISK_DS2_en_csv_v2_6300716_2.csv\"\n",
    "\n",
    "\n",
    "def get_country_risk_premium(country, start_year, end_year):\n",
    "    \"\"\"\n",
    "    Retrieves the country risk premium data for a specific country and time period.\n",
    "\n",
    "    Parameters:\n",
    "    - country (str): The name of the country.\n",
    "    - start_year (int): The starting year of the time period.\n",
    "    - end_year (int): The ending year of the time period.\n",
    "\n",
    "    Returns:\n",
    "    None\n",
    "\n",
    "    Prints the country risk premium data for the specified country and time period.\n",
    "    \"\"\"\n",
    "    data = pd.read_csv(crp_data_from_world_bank, skiprows=4)\n",
    "    country_name = data[data[\"Country Name\"] == country]\n",
    "    year_columns = [str(year) for year in range(start_year, end_year + 1)]\n",
    "    country_crp_data = country_name[\n",
    "        [\"Country Name\", \"Country Code\", \"Indicator Name\", \"Indicator Code\"]\n",
    "        + year_columns\n",
    "    ]\n",
    "\n",
    "    if country == \"Brazil\":\n",
    "        country = \"Brasil\"\n",
    "\n",
    "    print(\n",
    "        f\"Country Risk Premium para o {country} entre os anos {start_year}–{end_year}:\"\n",
    "    )\n",
    "\n",
    "    display(country_crp_data)"
   ]
  },
  {
   "cell_type": "code",
   "execution_count": 35,
   "metadata": {},
   "outputs": [
    {
     "name": "stdout",
     "output_type": "stream",
     "text": [
      "Country Risk Premium para o Brasil entre os anos 2017–2022:\n"
     ]
    },
    {
     "data": {
      "text/html": [
       "<div>\n",
       "<style scoped>\n",
       "    .dataframe tbody tr th:only-of-type {\n",
       "        vertical-align: middle;\n",
       "    }\n",
       "\n",
       "    .dataframe tbody tr th {\n",
       "        vertical-align: top;\n",
       "    }\n",
       "\n",
       "    .dataframe thead th {\n",
       "        text-align: right;\n",
       "    }\n",
       "</style>\n",
       "<table border=\"1\" class=\"dataframe\">\n",
       "  <thead>\n",
       "    <tr style=\"text-align: right;\">\n",
       "      <th></th>\n",
       "      <th>Country Name</th>\n",
       "      <th>Country Code</th>\n",
       "      <th>Indicator Name</th>\n",
       "      <th>Indicator Code</th>\n",
       "      <th>2017</th>\n",
       "      <th>2018</th>\n",
       "      <th>2019</th>\n",
       "      <th>2020</th>\n",
       "      <th>2021</th>\n",
       "      <th>2022</th>\n",
       "    </tr>\n",
       "  </thead>\n",
       "  <tbody>\n",
       "    <tr>\n",
       "      <th>29</th>\n",
       "      <td>Brazil</td>\n",
       "      <td>BRA</td>\n",
       "      <td>Risk premium on lending (lending rate minus tr...</td>\n",
       "      <td>FR.INR.RISK</td>\n",
       "      <td>37.859217</td>\n",
       "      <td>31.774033</td>\n",
       "      <td>31.295925</td>\n",
       "      <td>26.2813</td>\n",
       "      <td>22.90315</td>\n",
       "      <td>26.135792</td>\n",
       "    </tr>\n",
       "  </tbody>\n",
       "</table>\n",
       "</div>"
      ],
      "text/plain": [
       "   Country Name Country Code  \\\n",
       "29       Brazil          BRA   \n",
       "\n",
       "                                       Indicator Name Indicator Code  \\\n",
       "29  Risk premium on lending (lending rate minus tr...    FR.INR.RISK   \n",
       "\n",
       "         2017       2018       2019     2020      2021       2022  \n",
       "29  37.859217  31.774033  31.295925  26.2813  22.90315  26.135792  "
      ]
     },
     "metadata": {},
     "output_type": "display_data"
    }
   ],
   "source": [
    "get_country_risk_premium(\"Brazil\", 2017, 2022)"
   ]
  },
  {
   "cell_type": "markdown",
   "metadata": {},
   "source": [
    "# CAPM"
   ]
  },
  {
   "cell_type": "code",
   "execution_count": 47,
   "metadata": {},
   "outputs": [
    {
     "name": "stdout",
     "output_type": "stream",
     "text": [
      "CAPM:12.85%\n"
     ]
    }
   ],
   "source": [
    "country_risk_premium = 0.0256\n",
    "market_premium = 0.09\n",
    "risk_free_rate = risk_free_rates_df.loc[risk_free_rates_df['Year'] == 2022, 'Risk Free Rate'].values[0] / 100\n",
    "\n",
    "capm = (risk_free_rate + country_risk_premium + (market_premium * beta)) * 100\n",
    "capm = round(capm, 2)\n",
    "print(f\"CAPM:{capm}%\")"
   ]
  },
  {
   "cell_type": "markdown",
   "metadata": {},
   "source": [
    "# KD"
   ]
  },
  {
   "cell_type": "code",
   "execution_count": 37,
   "metadata": {},
   "outputs": [
    {
     "name": "stdout",
     "output_type": "stream",
     "text": [
      "KD: 11.16.\n",
      "KD (pós impostos): 7.37.\n"
     ]
    }
   ],
   "source": [
    "# Selic - % a.a - Média - Período de 30/12/2022 a 30/12/2022 - Base: Expectativas informadas nos últimos 30 dias\n",
    "selic_df = pd.read_csv(\"data/taxa_selic.csv\")\n",
    "tributos = 0.34\n",
    "\n",
    "def calculate_cdi(selic_df):\n",
    "    \"\"\"\n",
    "    Calculates the CDI (Certificado de Depósito Interbancário) based on the SELIC rate.\n",
    "\n",
    "    Parameters:\n",
    "    selic_df (DataFrame): A DataFrame containing the SELIC rate.\n",
    "\n",
    "    Returns:\n",
    "    cdi (Series): A Series containing the calculated CDI.\n",
    "\n",
    "    \"\"\"\n",
    "    cdi = selic_df['selic'] / 100\n",
    "    return cdi\n",
    "\n",
    "cdi = calculate_cdi(selic_df)\n",
    "\n",
    "def calculate_kd(cdi):\n",
    "    \"\"\"\n",
    "    Calculates the annualized cost of debt (kd) based on the average CDI rate.\n",
    "\n",
    "    Parameters:\n",
    "    cdi (pandas.Series): A pandas Series containing CDI rates.\n",
    "\n",
    "    Returns:\n",
    "    float: The annualized cost of debt (kd) rounded to 2 decimal places.\n",
    "    \"\"\"\n",
    "    kd = cdi.mean() * 120\n",
    "    \n",
    "    return kd.round(2)\n",
    "\n",
    "kd = calculate_kd(cdi)\n",
    "\n",
    "kd_post_tax = (kd * (1 - tributos)).round(2)\n",
    "\n",
    "print(f\"KD: {kd}.\")\n",
    "print(f\"KD (pós impostos): {kd_post_tax}.\")"
   ]
  },
  {
   "cell_type": "markdown",
   "metadata": {},
   "source": [
    "# WACC\n",
    "(CAPM * EQUITY) + (KD(post_tax) * DIVIDA)"
   ]
  },
  {
   "cell_type": "code",
   "execution_count": 59,
   "metadata": {},
   "outputs": [
    {
     "name": "stdout",
     "output_type": "stream",
     "text": [
      "\n",
      "CAPM: 12.85%\n",
      "Equity: 59.49%\n",
      "kd_post_tax: 7.37%\n",
      "Dívida: 40.51%\n",
      "WACC: 10.63%\n",
      "\n"
     ]
    }
   ],
   "source": [
    "de_ratio = 68.1\n",
    "\n",
    "def calcular_divida(de_ratio):\n",
    "    de_ratio /= 100\n",
    "    result = ((de_ratio) / (1 + de_ratio)) * 100\n",
    "    \n",
    "    return round(result, 2)\n",
    "\n",
    "divida = calcular_divida(de_ratio)\n",
    "\n",
    "equity = 100 - divida\n",
    "\n",
    "wacc = (capm * equity) + (kd_post_tax * divida)\n",
    "wacc = round((wacc / 100),2)\n",
    "\n",
    "print(f\"\"\"\n",
    "CAPM: {capm}%\n",
    "Equity: {equity}%\n",
    "kd_post_tax: {kd_post_tax}%\n",
    "Dívida: {divida}%\n",
    "WACC: {wacc}%\n",
    "\"\"\")"
   ]
  }
 ],
 "metadata": {
  "kernelspec": {
   "display_name": "fer",
   "language": "python",
   "name": "python3"
  },
  "language_info": {
   "codemirror_mode": {
    "name": "ipython",
    "version": 3
   },
   "file_extension": ".py",
   "mimetype": "text/x-python",
   "name": "python",
   "nbconvert_exporter": "python",
   "pygments_lexer": "ipython3",
   "version": "3.6.13"
  }
 },
 "nbformat": 4,
 "nbformat_minor": 2
}
