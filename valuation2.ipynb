{
 "cells": [
  {
   "cell_type": "code",
   "execution_count": 2,
   "metadata": {},
   "outputs": [
    {
     "data": {
      "text/plain": [
       "True"
      ]
     },
     "execution_count": 2,
     "metadata": {},
     "output_type": "execute_result"
    }
   ],
   "source": [
    "import numpy as np\n",
    "import os\n",
    "import pandas as pd\n",
    "import matplotlib.pyplot as plt\n",
    "import seaborn as sns\n",
    "import warnings\n",
    "import statsmodels.api as sm\n",
    "import yfinance as yf\n",
    "import requests\n",
    "from dotenv import load_dotenv\n",
    "\n",
    "load_dotenv()\n"
   ]
  },
  {
   "cell_type": "code",
   "execution_count": 3,
   "metadata": {},
   "outputs": [],
   "source": [
    "api_key = os.getenv(\"API_KEY\")"
   ]
  },
  {
   "cell_type": "code",
   "execution_count": 4,
   "metadata": {},
   "outputs": [],
   "source": [
    "warnings.filterwarnings('ignore', category=FutureWarning)\n"
   ]
  },
  {
   "cell_type": "code",
   "execution_count": 40,
   "metadata": {},
   "outputs": [
    {
     "data": {
      "text/html": [
       "<div>\n",
       "<style scoped>\n",
       "    .dataframe tbody tr th:only-of-type {\n",
       "        vertical-align: middle;\n",
       "    }\n",
       "\n",
       "    .dataframe tbody tr th {\n",
       "        vertical-align: top;\n",
       "    }\n",
       "\n",
       "    .dataframe thead th {\n",
       "        text-align: right;\n",
       "    }\n",
       "</style>\n",
       "<table border=\"1\" class=\"dataframe\">\n",
       "  <thead>\n",
       "    <tr style=\"text-align: right;\">\n",
       "      <th></th>\n",
       "      <th>Ano</th>\n",
       "      <th>Tava Livre de Risco</th>\n",
       "      <th>Taxa CDS</th>\n",
       "    </tr>\n",
       "  </thead>\n",
       "  <tbody>\n",
       "    <tr>\n",
       "      <th>0</th>\n",
       "      <td>2018</td>\n",
       "      <td>10.080</td>\n",
       "      <td>2.42980</td>\n",
       "    </tr>\n",
       "    <tr>\n",
       "      <th>1</th>\n",
       "      <td>2019</td>\n",
       "      <td>9.250</td>\n",
       "      <td>2.70050</td>\n",
       "    </tr>\n",
       "    <tr>\n",
       "      <th>2</th>\n",
       "      <td>2020</td>\n",
       "      <td>6.725</td>\n",
       "      <td>1.75080</td>\n",
       "    </tr>\n",
       "    <tr>\n",
       "      <th>3</th>\n",
       "      <td>2021</td>\n",
       "      <td>6.878</td>\n",
       "      <td>2.08161</td>\n",
       "    </tr>\n",
       "    <tr>\n",
       "      <th>4</th>\n",
       "      <td>2022</td>\n",
       "      <td>11.800</td>\n",
       "      <td>3.42900</td>\n",
       "    </tr>\n",
       "  </tbody>\n",
       "</table>\n",
       "</div>"
      ],
      "text/plain": [
       "    Ano  Tava Livre de Risco  Taxa CDS\n",
       "0  2018               10.080   2.42980\n",
       "1  2019                9.250   2.70050\n",
       "2  2020                6.725   1.75080\n",
       "3  2021                6.878   2.08161\n",
       "4  2022               11.800   3.42900"
      ]
     },
     "execution_count": 40,
     "metadata": {},
     "output_type": "execute_result"
    }
   ],
   "source": [
    "\n",
    "# Carregando os dados dos arquivos CSV\n",
    "rf_file_path = 'data/rf_br_10y.csv'\n",
    "cds_file_path = 'data/br_cds_10y.csv'\n",
    "\n",
    "# Lendo os arquivos CSV\n",
    "riskfree = pd.read_csv(rf_file_path, delimiter=\";\")\n",
    "cdsbrasil = pd.read_csv(cds_file_path, delimiter=\";\")\n",
    "\n",
    "# Extraindo as taxas de título livre de risco para anos específicos\n",
    "rf_data = {\n",
    "    \"Ano\": [2018, 2019, 2020, 2021, 2022],\n",
    "    \"Taxa Livre de Risco\": [\n",
    "        riskfree.loc[1184, 'Último'],\n",
    "        riskfree.loc[932, 'Último'],\n",
    "        riskfree.loc[680, 'Último'],\n",
    "        riskfree.loc[426, 'Último'],\n",
    "        riskfree.loc[0, 'Último']\n",
    "    ]\n",
    "}\n",
    "\n",
    "# Extraindo os valores para o CDS\n",
    "cds_data = {\n",
    "    \"Ano\": [2018, 2019, 2020, 2021, 2022],\n",
    "    \"Taxa CDS\": [\n",
    "        cdsbrasil.loc[1230, \"Último\"] / 100,\n",
    "        cdsbrasil.loc[969, \"Último\"] / 100,\n",
    "        cdsbrasil.loc[708, \"Último\"] / 100,\n",
    "        cdsbrasil.loc[447, \"Último\"] / 100,\n",
    "        cdsbrasil.loc[0, \"Último\"] / 100\n",
    "    ]\n",
    "}\n",
    "\n",
    "# Convertendo em DataFrames\n",
    "rf_df = pd.DataFrame(rf_data)\n",
    "cds_df = pd.DataFrame(cds_data)\n",
    "\n",
    "# Combinando os dois DataFrames\n",
    "combined_df = pd.merge(rf_df, cds_df, on=\"Ano\")\n",
    "\n",
    "riskfree.head()\n",
    "combined_df\n"
   ]
  },
  {
   "cell_type": "code",
   "execution_count": 32,
   "metadata": {},
   "outputs": [],
   "source": [
    "# interest_rate_df = pd.read_csv('interest_rates.csv')\n",
    "\n",
    "# plt.figure(figsize=(14, 6))\n",
    "\n",
    "# sns.lineplot(data=interest_rate_df, x='Term', y='Rates 2023', marker='o', color='#1f77b4', \n",
    "#              label='United States Treasury Constant Maturity - 2023')\n",
    "# sns.lineplot(data=interest_rate_df, x='Term', y='Rates 2022', marker='D', color='#ff7f0e',\n",
    "#              label='United States Treasury Constant Maturity - 2022')\n",
    "\n",
    "\n",
    "# plt.title('Risk-Free Rate Term Structure')\n",
    "# plt.xlabel('Term (Years)')\n",
    "# plt.ylabel('Rate (%)')\n",
    "# plt.grid(True)\n",
    "\n",
    "# plt.show()\n"
   ]
  },
  {
   "cell_type": "markdown",
   "metadata": {},
   "source": [
    "# Veja a partir daqui"
   ]
  },
  {
   "cell_type": "markdown",
   "metadata": {},
   "source": [
    "## risk-free rate 10-Year American Treasury Yield"
   ]
  },
  {
   "cell_type": "code",
   "execution_count": 9,
   "metadata": {},
   "outputs": [
    {
     "name": "stdout",
     "output_type": "stream",
     "text": [
      "Taxa livre de risco (10-Year American Treasury Yield): 4.5%\n"
     ]
    }
   ],
   "source": [
    "def fetch_treasury_yield(api_key):\n",
    "    url = \"https://www.alphavantage.co/query\"\n",
    "    params = {\n",
    "        \"function\": \"TREASURY_YIELD\",\n",
    "        \"interval\": \"monthly\",\n",
    "        \"maturity\": \"10year\",\n",
    "        \"apikey\": api_key,\n",
    "    }\n",
    "\n",
    "    response = requests.get(url, params=params)\n",
    "    if response.status_code == 200:\n",
    "        data = response.json()\n",
    "        latest_date = max(data['data'], key=lambda x: x['date'])\n",
    "        latest_yield = latest_date['value']\n",
    "        return f\"{float(latest_yield)}%\"\n",
    "    else:\n",
    "        print(f\"Não foi possível fetch: {response.status_code}\")\n",
    "        return None\n",
    "\n",
    "\n",
    "\n",
    "risk_free_rate = fetch_treasury_yield(api_key)\n",
    "\n",
    "if risk_free_rate:\n",
    "    print(f\"Taxa livre de risco (10-Year American Treasury Yield): {risk_free_rate}\")"
   ]
  },
  {
   "cell_type": "markdown",
   "metadata": {},
   "source": [
    "## Beta"
   ]
  },
  {
   "cell_type": "code",
   "execution_count": 7,
   "metadata": {},
   "outputs": [
    {
     "name": "stdout",
     "output_type": "stream",
     "text": [
      "[*********************100%%**********************]  1 of 1 completed\n",
      "[*********************100%%**********************]  1 of 1 completed\n",
      "Beta: 0.7411625858272158\n"
     ]
    }
   ],
   "source": [
    "# Vibra Energia\n",
    "stock_ticker = 'VBBR3.SA'  \n",
    "# S&P 500\n",
    "market_index_ticker = '^GSPC'  \n",
    "start_date = '2018-01-01'\n",
    "end_date = '2023-01-01'\n",
    "\n",
    "stock_data = yf.download(stock_ticker, start=start_date, end=end_date)\n",
    "market_data = yf.download(market_index_ticker, start=start_date, end=end_date)\n",
    "\n",
    "# Cálculo de daily returns\n",
    "stock_returns = stock_data['Adj Close'].pct_change().dropna()\n",
    "market_returns = market_data['Adj Close'].pct_change().dropna()\n",
    "\n",
    "\n",
    "aligned_returns = pd.concat([stock_returns, market_returns], axis=1).dropna()\n",
    "aligned_returns.columns = ['Stock Returns', 'Market Returns']\n",
    "\n",
    "# Regressão para o cálculo do Beta\n",
    "X = sm.add_constant(aligned_returns['Market Returns'])  \n",
    "# Ordinary Least Squares regression (OLS) \n",
    "model = sm.OLS(aligned_returns['Stock Returns'], X).fit()\n",
    "beta = model.params['Market Returns']\n",
    "\n",
    "# Display the beta\n",
    "print(f\"Beta: {beta}\")"
   ]
  },
  {
   "cell_type": "code",
   "execution_count": 46,
   "metadata": {},
   "outputs": [
    {
     "data": {
      "text/html": [
       "<div>\n",
       "<style scoped>\n",
       "    .dataframe tbody tr th:only-of-type {\n",
       "        vertical-align: middle;\n",
       "    }\n",
       "\n",
       "    .dataframe tbody tr th {\n",
       "        vertical-align: top;\n",
       "    }\n",
       "\n",
       "    .dataframe thead th {\n",
       "        text-align: right;\n",
       "    }\n",
       "</style>\n",
       "<table border=\"1\" class=\"dataframe\">\n",
       "  <thead>\n",
       "    <tr style=\"text-align: right;\">\n",
       "      <th></th>\n",
       "      <th>Beta Médio Por Ano</th>\n",
       "    </tr>\n",
       "    <tr>\n",
       "      <th>Date</th>\n",
       "      <th></th>\n",
       "    </tr>\n",
       "  </thead>\n",
       "  <tbody>\n",
       "    <tr>\n",
       "      <th>2018-12-31</th>\n",
       "      <td>0.539033</td>\n",
       "    </tr>\n",
       "    <tr>\n",
       "      <th>2019-12-31</th>\n",
       "      <td>0.141874</td>\n",
       "    </tr>\n",
       "    <tr>\n",
       "      <th>2020-12-31</th>\n",
       "      <td>0.823014</td>\n",
       "    </tr>\n",
       "    <tr>\n",
       "      <th>2021-12-31</th>\n",
       "      <td>0.460761</td>\n",
       "    </tr>\n",
       "    <tr>\n",
       "      <th>2022-12-31</th>\n",
       "      <td>0.507617</td>\n",
       "    </tr>\n",
       "  </tbody>\n",
       "</table>\n",
       "</div>"
      ],
      "text/plain": [
       "            Beta Médio Por Ano\n",
       "Date                          \n",
       "2018-12-31            0.539033\n",
       "2019-12-31            0.141874\n",
       "2020-12-31            0.823014\n",
       "2021-12-31            0.460761\n",
       "2022-12-31            0.507617"
      ]
     },
     "metadata": {},
     "output_type": "display_data"
    }
   ],
   "source": [
    "annual_beta = aligned_returns['Beta'].resample('Y').mean()\n",
    "annual_beta.name = 'Beta Médio Por Ano'\n",
    "\n",
    "annual_beta_df = annual_beta.to_frame()\n",
    "\n",
    "\n",
    "display(annual_beta_df)\n"
   ]
  },
  {
   "cell_type": "code",
   "execution_count": 4,
   "metadata": {},
   "outputs": [],
   "source": [
    "# # Data for each component\n",
    "# ebitda = np.array([1.859, 1.839, 5.222, 3.833, 3.649, 5.894, 7.316, 7.784, 8.291, 8.827])\n",
    "# taxes = np.array([-1.616, -1.092, -0.925, -0.677, -0.393, -1.714, -2.093, -2.141, -2.197, -2.256])\n",
    "# change_in_working_capital = np.array([-3.899, 0.357, 0.366, -3.021, 0.059, -3.511, -1.507, -0.605, -0.647, -0.682])\n",
    "# capex = np.array([-0.196, -0.373, -0.581, -2.415, -2.011, -2.669, -3.091, -3.256, -3.432, -3.617])\n",
    "\n",
    "# # Calculate the Cash Flow (FCFF) for each year\n",
    "# cash_flow = ebitda + taxes + change_in_working_capital + capex\n",
    "\n",
    "# # Discount factors and periods of discount (assuming the periods start from 0.5 to 4.5 with 1 year increments)\n",
    "# discount_periods = np.array([0.5, 1.5, 2.5, 3.5, 4.5])\n",
    "# discount_rate = 0.104  # 10.4% discount rate\n",
    "# # Discount factors calculated using the formula: 1 / (1 + r)^t\n",
    "# discount_factors = 1 / (1 + discount_rate) ** discount_periods\n",
    "\n",
    "# # Calculate the present value of the cash flows for the years where discount factors are given\n",
    "# present_values = cash_flow[5:10] * discount_factors\n",
    "\n",
    "# # Create a DataFrame to display the data neatly\n",
    "# fcff_df = pd.DataFrame({\n",
    "#     'Ano': np.arange(2018, 2028),\n",
    "#     'EBITDA': ebitda,\n",
    "#     'IRPJ/CSLL': taxes,\n",
    "#     'Variação do capital de giro': change_in_working_capital,\n",
    "#     'CAPEX': capex,\n",
    "#     'Fluxo de Caixa': cash_flow,\n",
    "#     'Fator de desconto': np.append(np.full(5, np.nan), discount_factors),  \n",
    "#     # 'Present Value': np.append(np.full(5, np.nan), present_values)  \n",
    "# })\n",
    "\n",
    "# fcff_df\n"
   ]
  }
 ],
 "metadata": {
  "kernelspec": {
   "display_name": "ml-zoomcamp",
   "language": "python",
   "name": "python3"
  },
  "language_info": {
   "codemirror_mode": {
    "name": "ipython",
    "version": 3
   },
   "file_extension": ".py",
   "mimetype": "text/x-python",
   "name": "python",
   "nbconvert_exporter": "python",
   "pygments_lexer": "ipython3",
   "version": "3.11.5"
  }
 },
 "nbformat": 4,
 "nbformat_minor": 2
}
